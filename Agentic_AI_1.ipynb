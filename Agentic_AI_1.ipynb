{
  "nbformat": 4,
  "nbformat_minor": 0,
  "metadata": {
    "colab": {
      "provenance": [],
      "authorship_tag": "ABX9TyPWC0Kxylt9E8OVNjJJOIGc",
      "include_colab_link": true
    },
    "kernelspec": {
      "name": "python3",
      "display_name": "Python 3"
    },
    "language_info": {
      "name": "python"
    }
  },
  "cells": [
    {
      "cell_type": "markdown",
      "metadata": {
        "id": "view-in-github",
        "colab_type": "text"
      },
      "source": [
        "<a href=\"https://colab.research.google.com/github/hanzlikhan/practice/blob/main/Agentic_AI_1.ipynb\" target=\"_parent\"><img src=\"https://colab.research.google.com/assets/colab-badge.svg\" alt=\"Open In Colab\"/></a>"
      ]
    },
    {
      "cell_type": "markdown",
      "source": [
        "-U ka matlb update that dependencies\n",
        "-q mean skip everyother flag"
      ],
      "metadata": {
        "id": "uzjLozcKGXwK"
      }
    },
    {
      "cell_type": "markdown",
      "source": [],
      "metadata": {
        "id": "MeNW-SjiGWtC"
      }
    },
    {
      "cell_type": "markdown",
      "source": [],
      "metadata": {
        "id": "Jfa4vkp8D_21"
      }
    },
    {
      "cell_type": "code",
      "execution_count": 1,
      "metadata": {
        "colab": {
          "base_uri": "https://localhost:8080/"
        },
        "id": "YsisaqeHFs0T",
        "outputId": "8ca34b18-b99a-4cb4-8ec6-cf1b0c1f04a3"
      },
      "outputs": [
        {
          "output_type": "stream",
          "name": "stdout",
          "text": [
            "\u001b[?25l   \u001b[90m━━━━━━━━━━━━━━━━━━━━━━━━━━━━━━━━━━━━━━━━\u001b[0m \u001b[32m0.0/144.7 kB\u001b[0m \u001b[31m?\u001b[0m eta \u001b[36m-:--:--\u001b[0m\r\u001b[2K   \u001b[90m━━━━━━━━━━━━━━━━━━━━━━━━━━━━━━━━━━━━━━━━\u001b[0m \u001b[32m144.7/144.7 kB\u001b[0m \u001b[31m4.2 MB/s\u001b[0m eta \u001b[36m0:00:00\u001b[0m\n",
            "\u001b[?25h"
          ]
        }
      ],
      "source": [
        "!pip install -U -q google-genai"
      ]
    },
    {
      "cell_type": "code",
      "source": [
        "from google.colab import userdata\n",
        "import os\n",
        "# Import the google.genai library instead of just google\n",
        "import google.genai as genai\n",
        "\n",
        "# Get API key from user data\n",
        "api_key = userdata.get('GOOGLE-API-KEY')\n",
        "\n",
        "# If API key is not found in user data, prompt the user to enter it\n",
        "if not api_key:\n",
        "  api_key = input(\"Please enter your Google AI API key: \")\n",
        "  # Optionally, you can store the API key in user data for future use\n",
        "  # userdata.set('GOOGLE-API-KEY', api_key)\n",
        "\n",
        "# Set environment variable or pass directly to Client\n",
        "# Option 1: Set environment variable (recommended)\n",
        "os.environ['GOOGLE_API_KEY'] = api_key\n",
        "client = genai.Client() #Now this uses the correct namespace\n",
        "\n",
        "# Option 2: Pass API key directly to Client (alternative)\n",
        "# client = genai.Client(api_key=api_key)"
      ],
      "metadata": {
        "id": "Um4LoLl1GMn1"
      },
      "execution_count": 4,
      "outputs": []
    },
    {
      "cell_type": "code",
      "source": [
        "MODEL: str = \"gemini-2.0-flash-exp\""
      ],
      "metadata": {
        "id": "qEaP694eFWD1"
      },
      "execution_count": 5,
      "outputs": []
    },
    {
      "cell_type": "markdown",
      "source": [
        "# function to call model\n",
        "- answer will give in the response of content."
      ],
      "metadata": {
        "id": "OBLaNnskL7fv"
      }
    },
    {
      "cell_type": "code",
      "source": [
        "response = client.models.generate_content(\n",
        "    model=MODEL, contents = 'How does AI work?'\n",
        ")\n",
        "print(response.text)"
      ],
      "metadata": {
        "colab": {
          "base_uri": "https://localhost:8080/"
        },
        "id": "2Ws3fLSSGTsf",
        "outputId": "ca9152ac-2eb5-44a9-f41e-0ec2f2ddd284"
      },
      "execution_count": 6,
      "outputs": [
        {
          "output_type": "stream",
          "name": "stdout",
          "text": [
            "Alright, let's break down how AI works. It's a broad field, so I'll give you a general overview and then touch on some key concepts and techniques.\n",
            "\n",
            "**Core Idea: Making Machines Think (or Seem to)**\n",
            "\n",
            "At its core, Artificial Intelligence (AI) is about creating computer systems that can perform tasks that typically require human intelligence. This includes things like:\n",
            "\n",
            "*   **Learning:** Adapting and improving from experience.\n",
            "*   **Reasoning:** Solving problems and making decisions.\n",
            "*   **Problem-solving:** Finding solutions to complex issues.\n",
            "*   **Perception:** Understanding and interpreting sensory input (like images, sound, or text).\n",
            "*   **Natural Language Processing (NLP):** Understanding and generating human language.\n",
            "\n",
            "**Key Approaches and Techniques**\n",
            "\n",
            "AI achieves these capabilities through a variety of techniques, often in combination. Here are some of the most important ones:\n",
            "\n",
            "1.  **Machine Learning (ML):**\n",
            "\n",
            "    *   **What it is:**  A subfield of AI that focuses on enabling computers to learn from data without being explicitly programmed. Instead of writing specific rules for every scenario, you feed the machine data, and it learns patterns and relationships from that data.\n",
            "    *   **How it works:**\n",
            "        *   **Data:**  Machine learning models require data – lots and lots of it. This data is used to train the model.\n",
            "        *   **Algorithms:**  Different algorithms are used depending on the type of problem you're trying to solve. Some common types include:\n",
            "            *   **Supervised Learning:** The model is trained on labeled data (data with known inputs and outputs).  For example, you might feed it images of cats and dogs, labeled as \"cat\" or \"dog,\" and it learns to identify new images as one or the other.  Common algorithms include:\n",
            "                *   **Linear Regression:** Predicting a continuous value (e.g., house price).\n",
            "                *   **Logistic Regression:** Predicting a category (e.g., spam or not spam).\n",
            "                *   **Support Vector Machines (SVMs):**  Finding the best boundary between different classes.\n",
            "                *   **Decision Trees:**  Creating a tree-like structure to make decisions.\n",
            "                *   **Random Forests:**  An ensemble of decision trees.\n",
            "            *   **Unsupervised Learning:** The model is trained on unlabeled data. It tries to find patterns and structures in the data on its own. For example, you might feed it customer data and it identifies different customer segments.  Common algorithms include:\n",
            "                *   **Clustering (e.g., K-Means):** Grouping similar data points together.\n",
            "                *   **Dimensionality Reduction (e.g., Principal Component Analysis - PCA):** Reducing the number of variables while preserving important information.\n",
            "                *   **Anomaly Detection:** Identifying unusual data points.\n",
            "            *   **Reinforcement Learning:** The model learns by interacting with an environment and receiving rewards or penalties for its actions. Think of training a robot to walk – it gets a reward for taking a step and a penalty for falling.\n",
            "        *   **Training:** The model is fed the data, and the algorithm adjusts its internal parameters to minimize errors and improve its predictions.\n",
            "        *   **Evaluation:**  The model's performance is evaluated on a separate set of data (a \"test set\") to see how well it generalizes to new, unseen data.\n",
            "        *   **Deployment:** Once the model is trained and evaluated, it can be deployed to make predictions on new data.\n",
            "\n",
            "2.  **Deep Learning (DL):**\n",
            "\n",
            "    *   **What it is:** A subfield of machine learning that uses artificial neural networks with multiple layers (hence \"deep\"). These networks are inspired by the structure of the human brain.\n",
            "    *   **How it works:**\n",
            "        *   **Neural Networks:**  Deep learning models are built using interconnected nodes (neurons) organized in layers.  Each connection between neurons has a weight associated with it.\n",
            "        *   **Layers:**\n",
            "            *   **Input Layer:** Receives the initial data.\n",
            "            *   **Hidden Layers:** Multiple layers that perform complex transformations on the data.  The \"depth\" of the network (the number of hidden layers) is what distinguishes deep learning from traditional neural networks.\n",
            "            *   **Output Layer:** Produces the final result (e.g., the predicted category or value).\n",
            "        *   **Training:** The network learns by adjusting the weights of the connections between neurons to minimize errors. This is typically done using a technique called backpropagation.\n",
            "        *   **Types of Deep Learning Architectures:**\n",
            "            *   **Convolutional Neural Networks (CNNs):**  Excellent for image and video processing.  They use convolutional layers to automatically learn features from images.\n",
            "            *   **Recurrent Neural Networks (RNNs):**  Designed for sequential data, like text or time series.  They have a \"memory\" that allows them to remember previous inputs.  LSTMs (Long Short-Term Memory) and GRUs (Gated Recurrent Units) are popular types of RNNs that address the vanishing gradient problem.\n",
            "            *   **Transformers:** A more recent architecture that has revolutionized natural language processing.  They use attention mechanisms to weigh the importance of different parts of the input sequence.  Examples include BERT, GPT, and Transformer-based models.\n",
            "    *   **Why it's powerful:** Deep learning can automatically learn complex features from data, which is why it's been so successful in areas like image recognition, natural language processing, and speech recognition.  However, it also requires a lot of data and computational power.\n",
            "\n",
            "3.  **Natural Language Processing (NLP):**\n",
            "\n",
            "    *   **What it is:**  A field of AI that focuses on enabling computers to understand, interpret, and generate human language.\n",
            "    *   **How it works:** NLP involves a variety of techniques, including:\n",
            "        *   **Tokenization:** Breaking text into individual words or units (tokens).\n",
            "        *   **Part-of-Speech (POS) Tagging:** Identifying the grammatical role of each word (e.g., noun, verb, adjective).\n",
            "        *   **Named Entity Recognition (NER):** Identifying and classifying named entities (e.g., people, organizations, locations).\n",
            "        *   **Sentiment Analysis:** Determining the emotional tone of a piece of text.\n",
            "        *   **Machine Translation:** Translating text from one language to another.\n",
            "        *   **Text Summarization:** Generating a concise summary of a longer text.\n",
            "        *   **Question Answering:**  Answering questions posed in natural language.\n",
            "    *   **Uses:** Chatbots, language translation, text summarization, sentiment analysis, spam detection.\n",
            "\n",
            "4.  **Computer Vision:**\n",
            "\n",
            "    *   **What it is:** A field of AI that enables computers to \"see\" and interpret images and videos.\n",
            "    *   **How it works:** Computer vision involves techniques like:\n",
            "        *   **Image Recognition:** Identifying objects in an image.\n",
            "        *   **Object Detection:** Locating and identifying multiple objects in an image.\n",
            "        *   **Image Segmentation:** Dividing an image into different regions based on their content.\n",
            "        *   **Image Generation:** Creating new images from scratch or modifying existing ones.\n",
            "    *   **Uses:** Self-driving cars, medical image analysis, facial recognition, security systems.\n",
            "\n",
            "5.  **Expert Systems:**\n",
            "\n",
            "    *   **What it is:**  Computer systems that emulate the decision-making ability of a human expert in a specific domain.\n",
            "    *   **How it works:** Expert systems typically use a knowledge base (containing facts and rules) and an inference engine (which applies the rules to the facts to draw conclusions).\n",
            "    *   **Uses:** Medical diagnosis, financial planning, troubleshooting technical problems.  Less common now, often replaced by machine learning approaches.\n",
            "\n",
            "6.  **Robotics:**\n",
            "\n",
            "    *   **What it is:** The design, construction, operation, and application of robots.\n",
            "    *   **How it works:**  Robotics often combines AI techniques (like computer vision and machine learning) with mechanical engineering and electrical engineering to create robots that can perform tasks autonomously.\n",
            "\n",
            "**The AI Development Process (Generally)**\n",
            "\n",
            "1.  **Define the Problem:** Clearly identify the task you want the AI to perform.\n",
            "2.  **Gather Data:** Collect a large and relevant dataset to train the model.\n",
            "3.  **Choose an Algorithm:** Select the appropriate algorithm based on the type of problem and the available data.\n",
            "4.  **Train the Model:**  Feed the data into the algorithm and adjust its parameters to improve its performance.\n",
            "5.  **Evaluate the Model:** Test the model on a separate dataset to see how well it generalizes to new data.\n",
            "6.  **Deploy the Model:** Integrate the trained model into a real-world application.\n",
            "7.  **Monitor and Retrain:** Continuously monitor the model's performance and retrain it as needed with new data.\n",
            "\n",
            "**Important Considerations:**\n",
            "\n",
            "*   **Data is King:** AI models are only as good as the data they are trained on.  High-quality, representative data is essential for good performance.\n",
            "*   **Bias:** AI models can inherit biases from the data they are trained on. It's important to be aware of potential biases and take steps to mitigate them.\n",
            "*   **Explainability:** Some AI models (like deep neural networks) can be difficult to understand. This can make it hard to trust their predictions, especially in critical applications.\n",
            "*   **Ethics:**  AI raises important ethical considerations, such as fairness, privacy, and accountability.\n",
            "\n",
            "**In Summary**\n",
            "\n",
            "AI is a vast and rapidly evolving field.  It involves using algorithms and techniques to create computer systems that can perform tasks that typically require human intelligence.  Machine learning and deep learning are key enablers of many AI applications, and the field continues to advance with new algorithms and architectures being developed all the time.  The success of AI depends on data, careful algorithm selection, and a thoughtful consideration of ethical implications.\n",
            "\n"
          ]
        }
      ]
    },
    {
      "cell_type": "markdown",
      "source": [
        "# GPU\n",
        "- def: the cpu, or central processing unit , is the promary component of a computer that performs most of the processing inside a computer.\n",
        "- fun: executes instructions from programs by performing basic arithmetic, logic, control, and input/output operations.\n",
        "- Acts as the brain of the computer where most calculations take place.\n",
        "\n",
        "- one work at a time.\n",
        "\n",
        "# GPU\n",
        "\n",
        "- def: the gpu, or graphics processing unit, is a specialized processor designed to accelerate graphics redering.\n",
        "- fun: handles computations related to 3D graphics and image processing.\n",
        "- offloads and acdcelerates complex mathematical calculations, particularly those involving parallel processing.\n",
        "\n",
        "- multi-task\n",
        "- multi part work a time to complete one task.\n",
        "\n",
        "1. Nvidia (G Force, RTX 4090 4nm)\n",
        "- . semi conductor chips - fabricated TSMC\n",
        "- . 90% market share\n",
        "2. AMD - fabricated TSMC\n",
        "3. Apple - A18(3nm) - fabricated by TSMC\n",
        "4. Samsung - Qualcomm SnapDragon9 Gen3(4nm) fabricated by TSMC\n",
        "5. Intel- fabricated by self\n",
        "\n",
        "# Nvidia Blackwell GPUs\n",
        "\n",
        "- 30% efficient than above Nvidia double power\n",
        "- more expensive\n",
        "- 2 chips work together in this\n",
        "- 25% energy less than above\n",
        "\n",
        "# Nvidia CUDA Plateform\n",
        "- computer unified device Architecture(CUDA)\n",
        "- parallel processing\n",
        "\n",
        "- general propose usage\n",
        "- cuda nn\n",
        "- for neural network\n",
        "- general propose parallel processing\n",
        "- in computer process for heavy thing use this cuda\n",
        "- install cuda to process\n",
        "\n",
        "1. parallel processing\n",
        "2. developer accessibility\n",
        "3. extensive ecosystem\n",
        "\n",
        "\n",
        "### need gpu for the training model\n",
        "- for inference we need cuda\n",
        "- scalablity\n",
        "\n",
        "\n",
        "## Compound AI systems: A new Frontier in AI:\n",
        "\n",
        "- again dataset train that's traditional ai\n",
        "\n",
        "#### compound ai system:\n",
        "- smarter way to work\n",
        "- tool box\n",
        "- different tools together and work together\n",
        "\n",
        "### Agentic AI\n",
        "\n",
        "- autonomous\n",
        "\n",
        "\n",
        "1. traditional AI:\n",
        "- specific task do\n",
        "2. coumpound AI:\n",
        "- diffrent tool perform task\n",
        "-\n"
      ],
      "metadata": {
        "id": "H7eDmIhZOcXI"
      }
    },
    {
      "cell_type": "code",
      "source": [],
      "metadata": {
        "id": "SWncXvf8JLBA"
      },
      "execution_count": null,
      "outputs": []
    }
  ]
}