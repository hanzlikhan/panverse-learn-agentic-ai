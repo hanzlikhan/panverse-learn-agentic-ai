{
  "nbformat": 4,
  "nbformat_minor": 0,
  "metadata": {
    "colab": {
      "provenance": []
    },
    "kernelspec": {
      "name": "python3",
      "display_name": "Python 3"
    },
    "language_info": {
      "name": "python"
    }
  },
  "cells": [
    {
      "cell_type": "markdown",
      "source": [
        "# Basic Callable\n",
        "- To specify that a variable parameter or attribute is a function or callable. Python provides the callable type hint. The typical usage is:"
      ],
      "metadata": {
        "id": "bTP3gWm8vB2W"
      }
    },
    {
      "cell_type": "code",
      "source": [
        "from typing import Callable\n",
        "# A callable that takes two integers and returns a  string\n",
        "MyFunctionType = Callable[[int,int],str] # define function input and function output type , koi bhi cheese input me do int aur output me str return krti ho woh callable me add kr skte hai\n",
        "print(MyFunctionType)"
      ],
      "metadata": {
        "colab": {
          "base_uri": "https://localhost:8080/"
        },
        "id": "w74vG0NPvXz2",
        "outputId": "a938f3f1-5930-46a7-98eb-23f16c7b2db3"
      },
      "execution_count": 1,
      "outputs": [
        {
          "output_type": "stream",
          "name": "stdout",
          "text": [
            "typing.Callable[[int, int], str]\n"
          ]
        }
      ]
    },
    {
      "cell_type": "code",
      "source": [
        "#usage\n",
        "from dataclasses import dataclass\n",
        "from typing import Callable\n",
        "\n",
        "@dataclass\n",
        "class Calculator:\n",
        "  operator: Callable[[int,int],str]\n",
        "\n",
        "  def calculator(self,a:int,b:int) -> str:\n",
        "    return self.operator(a,b)\n",
        "\n",
        "def add_and_string(x:int,y:int) -> str:\n",
        "  return str(x + y)\n",
        "\n",
        "calc = Calculator(operator = add_and_string)\n",
        "print(calc.calculator(1,2))\n"
      ],
      "metadata": {
        "colab": {
          "base_uri": "https://localhost:8080/"
        },
        "id": "f__nTG1o2GRN",
        "outputId": "50da70ff-2ebf-4d76-fded-24dc7f9b2603"
      },
      "execution_count": 3,
      "outputs": [
        {
          "output_type": "stream",
          "name": "stdout",
          "text": [
            "3\n"
          ]
        }
      ]
    },
    {
      "cell_type": "markdown",
      "source": [
        "# Generics\n",
        "- Understanding Generics in Python\n",
        "- Generics allow us to create flexible and reusable code that can handle multiple data types dynamically. They are useful in situations where a function, class, or method should work with different types while maintaining type safety.\n",
        "\n",
        "- In Python, generics are implemented using the typing module."
      ],
      "metadata": {
        "id": "B-jQgQz46yXT"
      }
    },
    {
      "cell_type": "markdown",
      "source": [
        "1. Why Use Generics?\n",
        "Let's consider an example without generics:"
      ],
      "metadata": {
        "id": "vRr-QXWE7Bv_"
      }
    },
    {
      "cell_type": "code",
      "source": [
        "def double_number(n: int) -> int:\n",
        "    return n * 2\n",
        "\n",
        "print(double_number(5))   # ✅ Works fine\n",
        "print(double_number(5.5)) # ❌ Type error (expected int)"
      ],
      "metadata": {
        "id": "_bS5GJTd7DSD"
      },
      "execution_count": null,
      "outputs": []
    },
    {
      "cell_type": "markdown",
      "source": [
        "- This function only works with integers. But what if we want it to work with float as well?\n",
        "\n",
        "- We could remove the type hints, but then we'd lose type safety. Instead, generics solve this issue!"
      ],
      "metadata": {
        "id": "ePwPIp5c7Kc0"
      }
    },
    {
      "cell_type": "markdown",
      "source": [
        "2. Basic Syntax of Generics (TypeVar)\n",
        "Generics in Python are implemented using TypeVar from typing.\n",
        "\n"
      ],
      "metadata": {
        "id": "cpWNDNsb7QdY"
      }
    },
    {
      "cell_type": "code",
      "source": [
        "from typing import TypeVar\n",
        "\n",
        "T = TypeVar(\"T\")  # T represents a generic type\n",
        "# T is a placeholder that can be replaced with any type when the function is called.\n",
        "# The actual type is inferred at runtime."
      ],
      "metadata": {
        "id": "XOn4Jyah7GOP"
      },
      "execution_count": null,
      "outputs": []
    },
    {
      "cell_type": "markdown",
      "source": [
        "## 3. Using Generics in Functions"
      ],
      "metadata": {
        "id": "SzgO8uAZ6yH-"
      }
    },
    {
      "cell_type": "code",
      "source": [
        "from typing import TypeVar\n",
        "\n",
        "T = TypeVar(\"T\")  # Generic Type\n",
        "\n",
        "def identity(value: T) -> T:\n",
        "    return value\n",
        "\n",
        "print(identity(5))        # ✅ Works with int\n",
        "print(identity(\"Hello\"))  # ✅ Works with str\n",
        "print(identity([1, 2, 3])) # ✅ Works with list"
      ],
      "metadata": {
        "colab": {
          "base_uri": "https://localhost:8080/"
        },
        "id": "aR7uUQux7i3G",
        "outputId": "5fea21b7-92e7-4f79-89e3-7d1e58331729"
      },
      "execution_count": 4,
      "outputs": [
        {
          "output_type": "stream",
          "name": "stdout",
          "text": [
            "5\n",
            "Hello\n",
            "[1, 2, 3]\n"
          ]
        }
      ]
    },
    {
      "cell_type": "markdown",
      "source": [
        "## How It Works:\n",
        "T is a type variable, meaning that whatever type we pass, the function adapts.\n",
        "identity(5) → T becomes int\n",
        "identity(\"Hello\") → T becomes str\n",
        "identity([1, 2, 3]) → T becomes list[int]\n",
        "✅ Advantage: Type checking remains strong, but the function is flexible!"
      ],
      "metadata": {
        "id": "MHBUpEyL7eic"
      }
    },
    {
      "cell_type": "code",
      "source": [
        "from typing import TypeVar\n",
        "\n",
        "T = TypeVar(\"T\")  # Generic Type\n",
        "\n",
        "def identity(value: T) -> T:\n",
        "    return value\n",
        "\n",
        "print(identity(5))        # ✅ Works with int\n",
        "print(identity(\"Hello\"))  # ✅ Works with str\n",
        "print(identity([1, 2, 3])) # ✅ Works with list"
      ],
      "metadata": {
        "id": "y3MbF-7V7uZA"
      },
      "execution_count": null,
      "outputs": []
    },
    {
      "cell_type": "markdown",
      "source": [
        "## 4. Using Generics in Classes\n",
        "- We can define generic classes that work with multiple data types.\n",
        "### Example: Generic Container Class"
      ],
      "metadata": {
        "id": "kEaGgEbb73iP"
      }
    },
    {
      "cell_type": "code",
      "source": [
        "from typing import Generic, TypeVar\n",
        "\n",
        "T = TypeVar(\"T\")  # Define a type variable\n",
        "\n",
        "class Container(Generic[T]):  # Declare a generic class\n",
        "    def __init__(self, value: T):\n",
        "        self.value = value\n",
        "\n",
        "    def get_value(self) -> T:\n",
        "        return self.value\n",
        "\n",
        "# Creating instances with different types\n",
        "c1 = Container(10)          # T becomes int\n",
        "c2 = Container(\"Python\")    # T becomes str\n",
        "c3 = Container([1, 2, 3])   # T becomes list[int]\n",
        "\n",
        "print(c1.get_value())  # 10\n",
        "print(c2.get_value())  # Python\n",
        "print(c3.get_value())  # [1, 2, 3]"
      ],
      "metadata": {
        "colab": {
          "base_uri": "https://localhost:8080/"
        },
        "id": "E0Jc70HC-D_6",
        "outputId": "f4a7f6a6-2958-4655-efca-5143f0d2b476"
      },
      "execution_count": 5,
      "outputs": [
        {
          "output_type": "stream",
          "name": "stdout",
          "text": [
            "10\n",
            "Python\n",
            "[1, 2, 3]\n"
          ]
        }
      ]
    },
    {
      "cell_type": "markdown",
      "source": [
        "- issues in any:\n",
        "1. I don't know the data type,\n",
        "\n",
        "- for generics:\n",
        "1. btter communicate the intent of yout code\n",
        "2. Allow static tuype checking verify correctness"
      ],
      "metadata": {
        "id": "7cnVaOkaAOjY"
      }
    },
    {
      "cell_type": "markdown",
      "source": [],
      "metadata": {
        "id": "022cN4Td-De4"
      }
    },
    {
      "cell_type": "markdown",
      "source": [
        "# Dataclasses\n"
      ],
      "metadata": {
        "id": "mArtuYFpBPns"
      }
    },
    {
      "cell_type": "code",
      "execution_count": null,
      "metadata": {
        "id": "BJOk852FBEYo"
      },
      "outputs": [],
      "source": [
        "@dataclass\n",
        "class Person:\n",
        "  name: str\n",
        "  age: int\n",
        "  email: str | None = None\n",
        "  tags: list[str] = field(default_factory=list) # it is a best way to define empty list and without import List\n",
        "\n",
        "  # method\n",
        "\n",
        "  def is_age(self) -> bool:\n",
        "    \"\"\"Example method that uses the dataclass attributes.\"\"\"\n",
        "    return self.age > 18\n",
        "\n",
        "\n",
        "\n",
        "\n",
        "\n"
      ]
    }
  ]
}